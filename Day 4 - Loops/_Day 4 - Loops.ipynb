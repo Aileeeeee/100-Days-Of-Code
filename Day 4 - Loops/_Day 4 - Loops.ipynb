{
 "cells": [
  {
   "cell_type": "code",
   "execution_count": 9,
   "id": "0880fc9a-9edd-4459-a03b-9fd0c1b3215d",
   "metadata": {},
   "outputs": [
    {
     "name": "stdout",
     "output_type": "stream",
     "text": [
      "First problem\n",
      "1\n",
      "2\n",
      "3\n",
      "4\n",
      "5\n",
      "6\n",
      "7\n",
      "8\n",
      "9\n",
      "10\n",
      "\n",
      "Second problem\n",
      "1\n",
      "4\n",
      "9\n",
      "16\n",
      "25\n",
      "36\n",
      "49\n",
      "64\n",
      "81\n",
      "100\n"
     ]
    }
   ],
   "source": [
    "'''\n",
    "Write a script that does the following:\n",
    "\n",
    "- Print numbers from 1 to 10 using a for loop.\n",
    "- the script to print the square of each number from 1 to 10.\n",
    "'''\n",
    "print('First problem')\n",
    "# Iterate through a range of number and print each number \n",
    "for num in range(1,11):\n",
    "    print(num)\n",
    "\n",
    "print('\\nSecond problem')\n",
    "# Iterate through a range of numbers and print the square of each number from 1 - 10\n",
    "for num in range(1,11):\n",
    "    print(num ** 2)\n",
    "\n"
   ]
  },
  {
   "cell_type": "code",
   "execution_count": 33,
   "id": "184f31fa-5fae-40db-a7e2-9907520f3903",
   "metadata": {},
   "outputs": [
    {
     "name": "stdout",
     "output_type": "stream",
     "text": [
      "Welcome to the 'Guess the secret number game'\n"
     ]
    },
    {
     "name": "stdin",
     "output_type": "stream",
     "text": [
      "\n",
      "Do you want to continue? (yes/no):  yes\n",
      "\n",
      "Enter a number (Hint: The number is between the range of 1 - 20):  5\n"
     ]
    },
    {
     "name": "stdout",
     "output_type": "stream",
     "text": [
      "Try again! You guessed wrongly!\n"
     ]
    },
    {
     "name": "stdin",
     "output_type": "stream",
     "text": [
      "\n",
      "Enter a number (Hint: The number is between the range of 1 - 20):  3\n"
     ]
    },
    {
     "name": "stdout",
     "output_type": "stream",
     "text": [
      "Try again! You guessed wrongly!\n"
     ]
    },
    {
     "name": "stdin",
     "output_type": "stream",
     "text": [
      "\n",
      "Enter a number (Hint: The number is between the range of 1 - 20):  2\n"
     ]
    },
    {
     "name": "stdout",
     "output_type": "stream",
     "text": [
      "Try again! You guessed wrongly!\n"
     ]
    },
    {
     "name": "stdin",
     "output_type": "stream",
     "text": [
      "\n",
      "Enter a number (Hint: The number is between the range of 1 - 20):  9\n"
     ]
    },
    {
     "name": "stdout",
     "output_type": "stream",
     "text": [
      "Try again! You guessed wrongly!\n"
     ]
    },
    {
     "name": "stdin",
     "output_type": "stream",
     "text": [
      "\n",
      "Enter a number (Hint: The number is between the range of 1 - 20):  0\n"
     ]
    },
    {
     "name": "stdout",
     "output_type": "stream",
     "text": [
      "Try again! You guessed wrongly!\n"
     ]
    },
    {
     "name": "stdin",
     "output_type": "stream",
     "text": [
      "\n",
      "Enter a number (Hint: The number is between the range of 1 - 20):  6\n"
     ]
    },
    {
     "name": "stdout",
     "output_type": "stream",
     "text": [
      "Try again! You guessed wrongly!\n"
     ]
    },
    {
     "name": "stdin",
     "output_type": "stream",
     "text": [
      "\n",
      "Enter a number (Hint: The number is between the range of 1 - 20):  4\n"
     ]
    },
    {
     "name": "stdout",
     "output_type": "stream",
     "text": [
      "Try again! You guessed wrongly!\n"
     ]
    },
    {
     "name": "stdin",
     "output_type": "stream",
     "text": [
      "\n",
      "Enter a number (Hint: The number is between the range of 1 - 20):  3\n"
     ]
    },
    {
     "name": "stdout",
     "output_type": "stream",
     "text": [
      "Try again! You guessed wrongly!\n"
     ]
    },
    {
     "name": "stdin",
     "output_type": "stream",
     "text": [
      "\n",
      "Enter a number (Hint: The number is between the range of 1 - 20):  2\n"
     ]
    },
    {
     "name": "stdout",
     "output_type": "stream",
     "text": [
      "Try again! You guessed wrongly!\n"
     ]
    },
    {
     "name": "stdin",
     "output_type": "stream",
     "text": [
      "\n",
      "Enter a number (Hint: The number is between the range of 1 - 20):  7\n"
     ]
    },
    {
     "name": "stdout",
     "output_type": "stream",
     "text": [
      "Try again! You guessed wrongly!\n"
     ]
    },
    {
     "name": "stdin",
     "output_type": "stream",
     "text": [
      "\n",
      "Enter a number (Hint: The number is between the range of 1 - 20):  8\n"
     ]
    },
    {
     "name": "stdout",
     "output_type": "stream",
     "text": [
      "Try again! You guessed wrongly!\n"
     ]
    },
    {
     "name": "stdin",
     "output_type": "stream",
     "text": [
      "\n",
      "Enter a number (Hint: The number is between the range of 1 - 20):  1\n"
     ]
    },
    {
     "name": "stdout",
     "output_type": "stream",
     "text": [
      "You've guessed correctly!\n",
      "\n",
      "The secret number is 1.\n",
      "You guessed 11 times !\n"
     ]
    }
   ],
   "source": [
    "'''\n",
    "Write a script that does the following:\n",
    "\n",
    "Repeatedly ask the user to guess a secret number (e.g., 7).\n",
    "Stop the loop when the user guesses the correct number and display a success message.\n",
    "Bonus: Add a counter to track how many attempts the user needed to guess the correct number.\n",
    "\n",
    "'''\n",
    "# Import random module\n",
    "import random\n",
    "\n",
    "# Print welcome message to user\n",
    "print(\"Welcome to the 'Guess the secret number game'\")\n",
    "\n",
    "# Generate a number using the randrange() function\n",
    "secret_number = random.randrange(1,20)\n",
    "\n",
    "while True:\n",
    "    # Getting user input\n",
    "    user_input = input('\\nDo you want to continue? (yes/no): ')\n",
    "    if user_input == 'no':\n",
    "        print('Goodbye! See you in your next login.')\n",
    "        break\n",
    "\n",
    "    elif user_input == 'yes':\n",
    "        counter = 0\n",
    "        user_entry = int(input('\\nEnter a number (Hint: The number is between the range of 1 - 20): '))\n",
    "\n",
    "        while user_entry != secret_number:\n",
    "            print('Try again! You guessed wrongly!')\n",
    "            user_entry = int(input('\\nEnter a number (Hint: The number is between the range of 1 - 20): '))\n",
    "         \n",
    "            counter += 1\n",
    "        if user_entry == secret_number:\n",
    "            print(\"You've guessed correctly!\")\n",
    "            print(f'\\nThe secret number is {secret_number}.')\n",
    "            break\n",
    "    else:\n",
    "        print(\"Enter a valid output! 'yes or no'\")\n",
    "                             \n",
    "  \n",
    "print(f'You guessed {counter} times !')\n",
    "\n",
    "        \n",
    "              \n",
    "        \n",
    "    "
   ]
  },
  {
   "cell_type": "code",
   "execution_count": 47,
   "id": "57242731-084a-4cd2-8089-8604232f2ed8",
   "metadata": {},
   "outputs": [
    {
     "name": "stdout",
     "output_type": "stream",
     "text": [
      "patient 1: Falls short the standard weight\n",
      "patient 2: Exceeds the standard weight\n",
      "patient 3: Meets the standard weight\n",
      "patient 4: Falls short the standard weight\n",
      "patient 5: Exceeds the standard weight\n",
      "patient 6: Falls short the standard weight\n",
      "patient 7: Falls short the standard weight\n",
      "patient 8: Exceeds the standard weight\n",
      "patient 9: Exceeds the standard weight\n",
      "patient 10: Exceeds the standard weight\n",
      "\n",
      "Summary: \n",
      "Below standard weight: 4 patients.\n",
      "At or Above standard weight: 6 patients.\n"
     ]
    }
   ],
   "source": [
    "'''\n",
    "1. Track Patient Weight\n",
    "Write a Python script to evaluate whether each patient’s weight meets or exceeds a specified standard weight. The program should:\n",
    "\n",
    "- Take a list of patient weights (in kg) as input.\n",
    "- Compare each patient's weight to a standard weight (e.g., 75 kg).\n",
    "- For each patient, display whether they meet, exceed, or fall short of the standard.\n",
    "\n",
    "At the end, summarize the total number of patients who are:\n",
    "- Below the standard weight.\n",
    "- At or above the standard weight.\n",
    "\n",
    "'''\n",
    "weights = [70, 80, 75, 68, 90, 74,45,85,90,78]\n",
    "standard_weight = 75\n",
    "\n",
    "# Define a function `track_weight` to compare patient weight to standard weight\n",
    "def track_weight(weight_list,standard_weight):\n",
    "\n",
    "    # Declare the variables `below_standard_count` and `equal_above_standard_count`\n",
    "    below_standard_count = 0\n",
    "    equal_above_standard_count = 0\n",
    "    # Iterate over weight list\n",
    "    for i ,weight in enumerate(weight_list,1):\n",
    "        \n",
    "        # Check if patient's weight meet, exceed, or fall short of the standard. \n",
    "        if weight == standard_weight:\n",
    "            print(f'patient {i}: Meets the standard weight')\n",
    "            equal_above_standard_count += 1\n",
    "        elif weight < standard_weight:\n",
    "            print(f'patient {i}: Falls short the standard weight')\n",
    "            below_standard_count += 1\n",
    "        else: \n",
    "            print(f'patient {i}: Exceeds the standard weight')\n",
    "            equal_above_standard_count += 1\n",
    "\n",
    "    return equal_above_standard_count,below_standard_count\n",
    "\n",
    "# Unpack variables \n",
    "equal_above_standard_count,below_standard_count = track_weight(weights,standard_weight)\n",
    "\n",
    "print('\\nSummary: ')\n",
    "print(f'Below standard weight: {below_standard_count} patients.')\n",
    "print(f'At or Above standard weight: {equal_above_standard_count} patients.')\n",
    "\n",
    "\n",
    "            \n",
    "        "
   ]
  },
  {
   "cell_type": "code",
   "execution_count": null,
   "id": "e7a0f731-b781-47e8-9bf7-4f6b1e47e726",
   "metadata": {},
   "outputs": [],
   "source": []
  },
  {
   "cell_type": "code",
   "execution_count": null,
   "id": "66fee95e-eb57-472e-a5b3-e0c4410b2f06",
   "metadata": {},
   "outputs": [],
   "source": []
  },
  {
   "cell_type": "code",
   "execution_count": null,
   "id": "f21ffafd-b89f-42fc-a096-aca785d04870",
   "metadata": {},
   "outputs": [],
   "source": []
  }
 ],
 "metadata": {
  "kernelspec": {
   "display_name": "Python 3 (ipykernel)",
   "language": "python",
   "name": "python3"
  },
  "language_info": {
   "codemirror_mode": {
    "name": "ipython",
    "version": 3
   },
   "file_extension": ".py",
   "mimetype": "text/x-python",
   "name": "python",
   "nbconvert_exporter": "python",
   "pygments_lexer": "ipython3",
   "version": "3.12.7"
  }
 },
 "nbformat": 4,
 "nbformat_minor": 5
}
