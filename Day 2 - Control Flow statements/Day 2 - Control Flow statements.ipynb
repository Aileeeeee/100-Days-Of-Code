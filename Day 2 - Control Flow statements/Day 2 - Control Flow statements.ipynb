{
 "cells": [
  {
   "cell_type": "code",
   "execution_count": 17,
   "id": "f7ba48d1-8148-40a7-9d46-95744b079d45",
   "metadata": {},
   "outputs": [
    {
     "name": "stdin",
     "output_type": "stream",
     "text": [
      "How much money do you have in your wallet:  10\n"
     ]
    },
    {
     "name": "stdout",
     "output_type": "stream",
     "text": [
      "\n",
      "Wallet cash balance: $10.0\n",
      "You're broke!\n"
     ]
    }
   ],
   "source": [
    "\n",
    "'''\n",
    "Exercise 1: Are You Rich?\n",
    "Write a program that asks the user how much money they have in their wallet. The program\n",
    "should output “You're rich!” if the user inputs $20 or more and “You're broke!” if the input is\n",
    "less than $20.\n",
    "'''\n",
    "\n",
    "''' First Method using Functions '''\n",
    "def get_wallet_amount():\n",
    "    while True:\n",
    "        user_input = input('How much money do you have in your wallet: ')\n",
    "        if user_input.replace('.','',1).isdigit():\n",
    "            wallet = float(user_input)\n",
    "\n",
    "            if wallet >= 0:\n",
    "                break\n",
    "            else:\n",
    "                print('Enter a positive numeric value.')\n",
    "\n",
    "        else:\n",
    "            print('Invalid output!Enter a valid numeric currency value.')\n",
    "    return wallet\n",
    "\n",
    "   \n",
    "            \n",
    "# Initialize `get_wallet_amount()` function            \n",
    "wallet = get_wallet_amount()\n",
    "\n",
    "# Validate if user is ``Rich` or `Broke`\n",
    "if wallet >= 20:\n",
    "    print(f\"\\nWallet cash balance: ${wallet}\\nYou're rich!\")\n",
    "else:\n",
    "    print(f\"\\nWallet cash balance: ${wallet}\\nYou're broke!\")\n",
    "    \n",
    "\n",
    "    \n"
   ]
  },
  {
   "cell_type": "code",
   "execution_count": 33,
   "id": "bd57c9c1-6551-4eca-ab22-cb301fb23107",
   "metadata": {},
   "outputs": [
    {
     "name": "stdin",
     "output_type": "stream",
     "text": [
      "How much money do you have in your wallet:  1234\n"
     ]
    },
    {
     "name": "stdout",
     "output_type": "stream",
     "text": [
      "\n",
      "Wallet cash balance: $1234.00\n",
      "You're rich!\n"
     ]
    }
   ],
   "source": [
    "''' Second method without functions '''\n",
    "while True:\n",
    "    user_input = input('How much money do you have in your wallet: ')\n",
    "    if user_input.replace('.','',1).isdigit():\n",
    "        wallet = float(user_input)\n",
    "\n",
    "        if wallet >= 0:\n",
    "            break\n",
    "        else:\n",
    "            print('Enter a positive numeric value.')\n",
    "\n",
    "    else:\n",
    "        print('Invalid output!Enter a valid numeric currency value.')\n",
    "\n",
    "# Validate if user is ``Rich` or `Broke`\n",
    "if wallet >= 20:\n",
    "    print(f\"\\nWallet cash balance: ${wallet:.2f}\\nYou're rich!\")\n",
    "else:\n",
    "    print(f\"\\nWallet cash balance: ${wallet:.2f}\\nYou're broke!\")\n",
    "\n",
    "    \n",
    "\n",
    "\n"
   ]
  },
  {
   "cell_type": "code",
   "execution_count": 31,
   "id": "9204b777-6959-4abf-bdea-952c8eaa28b8",
   "metadata": {},
   "outputs": [
    {
     "name": "stdin",
     "output_type": "stream",
     "text": [
      "Do you own any cats? (yes/no): no\n",
      "Do you own any dogs? (yes/no): no\n"
     ]
    },
    {
     "name": "stdout",
     "output_type": "stream",
     "text": [
      "Maybe you need more pets.\n"
     ]
    }
   ],
   "source": [
    "''' Exercise 2: Cats or Dogs\n",
    "Write a program that performs the following steps:\n",
    "1. Ask the user if they own any cats. (Yes/No answer)\n",
    "2. Ask the user if they own any dogs. (Yes/No answer)\n",
    "3. If the user's responses indicate that they have both cats and dogs, output “You must\n",
    "really love pets!”\n",
    "4. Otherwise, the output should be “Maybe you need more pets.”\n",
    "The last step will apply if the user has cats but not dogs, dogs but not cats, or neither cats nor\n",
    "dogs.\n",
    "Write two different versions of this program: one that uses only if statements and another\n",
    "that uses if-else statements\n",
    "'''\n",
    "\n",
    "def get_response(prompt):\n",
    "    user_input = input(prompt).strip().lower()\n",
    "    return user_input\n",
    "\n",
    "''' IF statements only '''\n",
    "cat_response = get_response('Do you own any cats? (yes/no):')\n",
    "dog_response = get_response('Do you own any dogs? (yes/no):')\n",
    "\n",
    "if cat_response == 'yes':\n",
    "    if dog_response == 'yes':\n",
    "        print('You must really love pets!')\n",
    "    if dog_response == 'no':\n",
    "        print('Maybe you need more pets.')\n",
    "\n",
    "\n",
    "if cat_response == 'no':\n",
    "    if dog_response == 'yes':\n",
    "        print('Maybe you need more pets.')\n",
    "    if dog_response == 'no':\n",
    "        print('Maybe you need more pets.')\n",
    "\n",
    "        \n"
   ]
  },
  {
   "cell_type": "code",
   "execution_count": 37,
   "id": "94d3c2c8-4c49-4495-97b0-856fd1dd3505",
   "metadata": {},
   "outputs": [
    {
     "name": "stdin",
     "output_type": "stream",
     "text": [
      "Do you own any cats? (yes/no): yes\n",
      "Do you own any dogs? (yes/no): no\n"
     ]
    },
    {
     "name": "stdout",
     "output_type": "stream",
     "text": [
      "Maybe you need more pets.\n"
     ]
    }
   ],
   "source": [
    "''' IF Else statement'''\n",
    "cat_response = get_response('Do you own any cats? (yes/no):')\n",
    "dog_response = get_response('Do you own any dogs? (yes/no):')\n",
    "\n",
    "if cat_response == 'yes' and dog_response == 'yes' :\n",
    "    print('You must really love pets!')\n",
    "else:\n",
    "    print('Maybe you need more pets.')\n",
    "\n"
   ]
  },
  {
   "cell_type": "code",
   "execution_count": null,
   "id": "6be119b6-b76f-4c21-b49b-c1d1c1e2af1f",
   "metadata": {},
   "outputs": [],
   "source": []
  },
  {
   "cell_type": "code",
   "execution_count": 31,
   "id": "3ac8cfb0-0c14-4cd5-95d8-bda90ca17a5e",
   "metadata": {
    "scrolled": true
   },
   "outputs": [
    {
     "name": "stdout",
     "output_type": "stream",
     "text": [
      "Welcome to the Python Beginners assessment test.\n",
      "Provide True/False responses to the questions.\n",
      "\n"
     ]
    },
    {
     "name": "stdin",
     "output_type": "stream",
     "text": [
      "1. Python is a case-sensitive programming language? (True or False):  true\n",
      "2. In Python, a list is immutable? (True or False):  false\n",
      "3. The elif keyword in Python is used for multiple conditional checks? (True or False):  true\n",
      "4. Comments in Python start with a double forward slash (//)? (True or False):  false\n",
      "5. The print() function in Python is used to display output to the console? (True or False):  true\n",
      "6. In Python, the == operator is used for assignment? (True or False):  false\n",
      "7. A tuple in Python can contain duplicate values? (True or False):  true\n",
      "8. Indentation is optional in Python code? (True or False):  false\n",
      "9. The break statement is used to exit a loop in Python? (True or False):  true\n",
      "10. Python can be used for both scripting and object-oriented programming? (True or False):  false\n"
     ]
    },
    {
     "name": "stdout",
     "output_type": "stream",
     "text": [
      "\n",
      "CORRECT RESPONSES AND USER RESPONSES\n",
      "Question 1: Python is a case-sensitive programming language? (True or False): \n",
      "Your answer: True\n",
      "Correct answer: True\n",
      "\n",
      "Question 2: In Python, a list is immutable? (True or False): \n",
      "Your answer: False\n",
      "Correct answer: False\n",
      "\n",
      "Question 3: The elif keyword in Python is used for multiple conditional checks? (True or False): \n",
      "Your answer: True\n",
      "Correct answer: True\n",
      "\n",
      "Question 4: Comments in Python start with a double forward slash (//)? (True or False): \n",
      "Your answer: False\n",
      "Correct answer: False\n",
      "\n",
      "Question 5: The print() function in Python is used to display output to the console? (True or False): \n",
      "Your answer: True\n",
      "Correct answer: True\n",
      "\n",
      "Question 6: In Python, the == operator is used for assignment? (True or False): \n",
      "Your answer: False\n",
      "Correct answer: False\n",
      "\n",
      "Question 7: A tuple in Python can contain duplicate values? (True or False): \n",
      "Your answer: True\n",
      "Correct answer: True\n",
      "\n",
      "Question 8: Indentation is optional in Python code? (True or False): \n",
      "Your answer: False\n",
      "Correct answer: False\n",
      "\n",
      "Question 9: The break statement is used to exit a loop in Python? (True or False): \n",
      "Your answer: True\n",
      "Correct answer: True\n",
      "\n",
      "Question 10: Python can be used for both scripting and object-oriented programming? (True or False): \n",
      "Your answer: True\n",
      "Correct answer: False\n",
      "\n",
      "You answered 9 questions out of 10 correctly!\n",
      "Your Score: 90.00%\n"
     ]
    }
   ],
   "source": [
    "''' \n",
    "Exercise 3: True or False Quiz\n",
    "Create a program that asks the user a few questions to which the user will respond either True\n",
    "or False. Display all the questions with the correct answer and the user's answers at the end of\n",
    "the program, along with the user's correct response rate (number of questions answered\n",
    "correctly/number of questions).\n",
    "\n",
    "'''\n",
    "# Predefined questions and correct answers\n",
    "question_prompts = [\n",
    "    \"Python is a case-sensitive programming language? (True or False): \",\n",
    "    \"In Python, a list is immutable? (True or False): \",\n",
    "    \"The elif keyword in Python is used for multiple conditional checks? (True or False): \",\n",
    "    \"Comments in Python start with a double forward slash (//)? (True or False): \",\n",
    "    \"The print() function in Python is used to display output to the console? (True or False): \",\n",
    "    \"In Python, the == operator is used for assignment? (True or False): \",\n",
    "    \"A tuple in Python can contain duplicate values? (True or False): \",\n",
    "    \"Indentation is optional in Python code? (True or False): \",\n",
    "    \"The break statement is used to exit a loop in Python? (True or False): \",\n",
    "    \"Python can be used for both scripting and object-oriented programming? (True or False): \"]\n",
    "\n",
    "correct_responses = [True, False, True, False, True, False, True, False, True, True]\n",
    "user_responses = []\n",
    "no_of_questions = len(question_prompts)\n",
    "count = 0\n",
    "\n",
    "\n",
    "def get_response(prompt):\n",
    "    \"\"\"\n",
    "    Prompt the user for a True/False input.\n",
    "    Validates input and returns a boolean value.\n",
    "    \"\"\"\n",
    "    while True:\n",
    "        user_input = input(prompt).strip().lower()\n",
    "        if user_input in ['true','false']:\n",
    "            return user_input == 'true'\n",
    "            break\n",
    "        else:\n",
    "            print(\"Please enter 'True' and 'False'\")\n",
    "    \n",
    "\n",
    "# Display welcome message to user\n",
    "print('Welcome to the Python Beginners assessment test.')\n",
    "print('Provide True/False responses to the questions.\\n')\n",
    "\n",
    "for i,question in enumerate(question_prompts,1):\n",
    "    response = get_response(f'{i}. {question}')\n",
    "    user_responses.append(response)\n",
    "\n",
    "for i in range(no_of_questions):\n",
    "    if user_responses[i] == correct_responses[i]:\n",
    "        count += 1\n",
    "\n",
    "response_rate = (count / no_of_questions) * 100\n",
    "\n",
    "print('\\nCORRECT RESPONSES AND USER RESPONSES')\n",
    "for i,(question,user_response,correct_response) in enumerate(zip(question_prompts,correct_responses,user_responses),1):\n",
    "    print(f'Question {i}: {question}')\n",
    "    print(f'Your answer: {user_response}')\n",
    "    print(f'Correct answer: {correct_response}\\n')\n",
    "    \n",
    "print(f'You answered {count} questions out of {no_of_questions} correctly!')\n",
    "print(f'Your Score: {response_rate:.2f}%')"
   ]
  },
  {
   "cell_type": "code",
   "execution_count": null,
   "id": "25854e33-5d9e-416c-b76c-25f37aedff76",
   "metadata": {},
   "outputs": [],
   "source": []
  }
 ],
 "metadata": {
  "kernelspec": {
   "display_name": "Python 3 (ipykernel)",
   "language": "python",
   "name": "python3"
  },
  "language_info": {
   "codemirror_mode": {
    "name": "ipython",
    "version": 3
   },
   "file_extension": ".py",
   "mimetype": "text/x-python",
   "name": "python",
   "nbconvert_exporter": "python",
   "pygments_lexer": "ipython3",
   "version": "3.12.7"
  }
 },
 "nbformat": 4,
 "nbformat_minor": 5
}
