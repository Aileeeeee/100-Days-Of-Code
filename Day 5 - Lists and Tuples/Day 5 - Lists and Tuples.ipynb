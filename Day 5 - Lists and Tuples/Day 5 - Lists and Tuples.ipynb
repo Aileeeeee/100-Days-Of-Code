{
 "cells": [
  {
   "cell_type": "code",
   "execution_count": 53,
   "id": "cf75dd76-8461-429a-a940-092d9bda64b0",
   "metadata": {},
   "outputs": [
    {
     "name": "stdout",
     "output_type": "stream",
     "text": [
      "Welcome to my database for storing patient information.\n",
      "\n",
      "Information is stored in a list and is arranged in this way;`first_name, last_name,weight.`\n",
      "E.g Every 3 step is the value for the patient's weight\n"
     ]
    },
    {
     "data": {
      "text/plain": [
       "['Anabelle',\n",
       " 'Clarke',\n",
       " 67.5,\n",
       " 'Ken',\n",
       " 'Eric',\n",
       " 75.6,\n",
       " 'Ariana',\n",
       " 'Brown',\n",
       " 65.0,\n",
       " 'Joseph',\n",
       " 'Duke',\n",
       " 80.0,\n",
       " 'Joe',\n",
       " 'Babylon',\n",
       " 75.6]"
      ]
     },
     "execution_count": 53,
     "metadata": {},
     "output_type": "execute_result"
    }
   ],
   "source": [
    "'''\n",
    "Exercise: Patient Information Management\n",
    "Create a list to store patient data in the format [first_name, last_name, weight] for multiple patients.\n",
    "\n",
    "- Add a new patient to the end of the list.\n",
    "\n",
    "- Insert a new patient at the second position of the list.\n",
    "\n",
    "- Remove the first patient's details from the list.\n",
    "\n",
    "- Print the final list of patient data.\n",
    "\n",
    "'''\n",
    "# I'm making this story-wise; print message to my user interface\n",
    "print('Welcome to my database for storing patient information.')\n",
    "print('\\nInformation is stored in a list and is arranged in this way;`first_name, last_name,weight.`')\n",
    "print(\"E.g Every 3 step is the value for the patient's weight\")\n",
    "\n",
    "# Create list and store in a variable `patient_data`\n",
    "patients = ['Anabelle','Clarke',67.5,'Ariana', 'Brown',65.0, 'Joseph','Duke',80.0]\n",
    "\n",
    "# Add information for a new patient at the end of the `patients` list\n",
    "patient1 = ['Joe','Babylon',75.6] \n",
    "patients.extend(patient1)\n",
    "\n",
    "# Imagine its a waiting list , add a patient at the second position based on the level of urgency\n",
    "urgent_patient = ['Ken','Eric',75.6]\n",
    "# Iterate over `new_patient` list and each data to the ` patient data` list\n",
    "for i,data in enumerate(urgent_patient,3):\n",
    "    patients.insert(i,data)\n",
    "\n",
    "# Remove information of first patient from the list\n",
    "del patients[:3]\n",
    "\n",
    "patients\n",
    "\n",
    "\n",
    "\n",
    "\n"
   ]
  },
  {
   "cell_type": "code",
   "execution_count": 25,
   "id": "0164b023-e896-4f82-9e24-40b426ce6586",
   "metadata": {
    "scrolled": true
   },
   "outputs": [],
   "source": [
    "'''\n",
    "Patient Record System\n",
    "Create a system for managing patient records. You will use lists and tuples to store and manipulate information like patient details, treatment history, and prescriptions.\n",
    "\n",
    "Tasks:\n",
    "- Store patient records as tuples in a list. Each tuple contains: (patient_id, name, diagnosis, treatment_plan, medications).\n",
    "- Add a new patient record to the list.\n",
    "- Update an existing patient’s treatment plan.\n",
    "- Delete a patient record by patient_id.\n",
    "- Search for a patient by their diagnosis and display their treatment plan and medications.\n",
    "'''\n",
    "# Patient Record System\n",
    "\n",
    "# List to store patient records\n",
    "patient_records = []\n",
    "\n",
    "# Global ID Counter\n",
    "current_id = 100  # Starting ID\n",
    "\n",
    "def get_response(prompt):\n",
    "    \"\"\"Prompt the user for input and return the response.\"\"\"\n",
    "    return input(prompt).strip()\n",
    "\n",
    "\n",
    "def generate_patient_id(first_name, last_name):\n",
    "    \"\"\"Generate a unique patient ID using initials and a global counter.\"\"\"\n",
    "    # Add the global keyword to access the global counter\n",
    "    global current_id  \n",
    "    current_id += 1 \n",
    "    return f'{first_name[:1]}{last_name[:1]}{current_id}'\n",
    "\n",
    "\n",
    "def get_patient_record():\n",
    "    \"\"\"Collect and return a new patient record.\"\"\"\n",
    "    medications = []\n",
    "    \n",
    "    # Collect patient's basic details\n",
    "    first_name = get_response('/nEnter First name: ').capitalize()\n",
    "    last_name = get_response('Enter Last name: ').capitalize()\n",
    "    name = f\"{first_name} {last_name}\"\n",
    "\n",
    "    \n",
    "    # Collect diagnosis and treatment plan\n",
    "    diagnosis = get_response(f\"\\nWhat's your diagnosis for {name}? \").capitalize()\n",
    "    treatment_plan = get_response(f\"\\nEnter a treatment plan: \").capitalize()\n",
    "\n",
    "    # Collect medications and enter `quit` to stop\n",
    "    while True:\n",
    "        medication = get_response(\"Enter the name of the medication to be prescribed ('quit' to stop entering): \").lower()\n",
    "        if medication == 'quit':\n",
    "            break\n",
    "        medications.append(medication)\n",
    "    \n",
    "    # Generate a unique patient ID\n",
    "    patient_id = generate_patient_id(first_name, last_name)\n",
    "\n",
    "    return (patient_id, name, diagnosis, treatment_plan, medications)\n",
    "\n",
    "\n",
    "def update_treatment_plan(patient_id):\n",
    "    \"\"\"Update an existing patient’s treatment plan.\"\"\"\n",
    "    for record in patient_records:\n",
    "        if record[0] == patient_id:\n",
    "            new_treatment = get_response(\"\\nEnter the new treatment plan: \").capitalize()\n",
    "            patient_records[patient_records.index(record)] = (\n",
    "                record[0], record[1], record[2], new_treatment, record[4]\n",
    "            )\n",
    "            print(\"Treatment plan updated successfully.\")\n",
    "            break\n",
    "    else:\n",
    "        print(\"Patient ID not found.\")\n",
    "\n",
    "def delete_patient_record(patient_id):\n",
    "    \"\"\"Delete a patient record by patient_id.\"\"\"\n",
    "    global patient_records\n",
    "    \n",
    "    for record in patient_records:\n",
    "        if record[0] == patient_id:\n",
    "            patient_records.remove(record)\n",
    "            print(\"Patient record deleted successfully.\")\n",
    "            break\n",
    "    else:\n",
    "        print(\"Patient ID not found. No record was deleted.\")\n",
    "\n",
    "\n",
    "def search_by_diagnosis(diagnosis):\n",
    "    \"\"\"Search for a patient by diagnosis and display their details.\"\"\"\n",
    "    for record in patient_records:\n",
    "        if record[2] == diagnosis:\n",
    "            print(f\"\\nPatient Name: {record[1]}\")\n",
    "            print(f\"Treatment Plan: {record[3]}\")\n",
    "            print(f\"Medications: {', '.join(record[4]) if record[4] else 'None'}\")\n",
    "            break\n",
    "    else:\n",
    "        print(\"No patients found with that diagnosis.\")\n"
   ]
  },
  {
   "cell_type": "code",
   "execution_count": null,
   "id": "707ffb07-2b48-423c-86d4-80cd5ee1752b",
   "metadata": {},
   "outputs": [
    {
     "name": "stdout",
     "output_type": "stream",
     "text": [
      "\n",
      "Patient Record System Menu:\n",
      "1. Add a new patient record\n",
      "2. Update treatment plan\n",
      "3. Delete a patient record\n",
      "4. Search by diagnosis\n",
      "5. Display all records\n",
      "6. Exit\n"
     ]
    },
    {
     "name": "stdin",
     "output_type": "stream",
     "text": [
      "Enter your choice (1-6):  5\n"
     ]
    },
    {
     "name": "stdout",
     "output_type": "stream",
     "text": [
      "\n",
      "All Patient Records:\n",
      "\n",
      "Patient Record System Menu:\n",
      "1. Add a new patient record\n",
      "2. Update treatment plan\n",
      "3. Delete a patient record\n",
      "4. Search by diagnosis\n",
      "5. Display all records\n",
      "6. Exit\n"
     ]
    },
    {
     "name": "stdin",
     "output_type": "stream",
     "text": [
      "Enter your choice (1-6):  1\n",
      "Enter First name:  hannah\n",
      "Enter Last name:  graf\n",
      "\n",
      "What's your diagnosis for Hannah Graf?  medications\n",
      "\n",
      "Enter a treatment plan:  medications\n",
      "Enter the name of the medication to be prescribed ('quit' to stop entering):  gelusil\n",
      "Enter the name of the medication to be prescribed ('quit' to stop entering):  quit\n"
     ]
    },
    {
     "name": "stdout",
     "output_type": "stream",
     "text": [
      "\n",
      "Patient Record System Menu:\n",
      "1. Add a new patient record\n",
      "2. Update treatment plan\n",
      "3. Delete a patient record\n",
      "4. Search by diagnosis\n",
      "5. Display all records\n",
      "6. Exit\n"
     ]
    },
    {
     "name": "stdin",
     "output_type": "stream",
     "text": [
      "Enter your choice (1-6):  2\n",
      "Enter Patient ID to update:  HG101\n",
      "Enter the new treatment plan:  laboratory test\n"
     ]
    },
    {
     "name": "stdout",
     "output_type": "stream",
     "text": [
      "Treatment plan updated successfully.\n",
      "\n",
      "Patient Record System Menu:\n",
      "1. Add a new patient record\n",
      "2. Update treatment plan\n",
      "3. Delete a patient record\n",
      "4. Search by diagnosis\n",
      "5. Display all records\n",
      "6. Exit\n"
     ]
    },
    {
     "name": "stdin",
     "output_type": "stream",
     "text": [
      "Enter your choice (1-6):  5\n"
     ]
    },
    {
     "name": "stdout",
     "output_type": "stream",
     "text": [
      "\n",
      "All Patient Records:\n",
      "('HG101', 'Hannah Graf', 'Medications', 'Laboratory test', ['gelusil'])\n",
      "\n",
      "Patient Record System Menu:\n",
      "1. Add a new patient record\n",
      "2. Update treatment plan\n",
      "3. Delete a patient record\n",
      "4. Search by diagnosis\n",
      "5. Display all records\n",
      "6. Exit\n"
     ]
    }
   ],
   "source": [
    "# Main Program Loop\n",
    "while True:\n",
    "    print(\"\\nPatient Record System Menu:\")\n",
    "    print(\"1. Add a new patient record\")\n",
    "    print(\"2. Update treatment plan\")\n",
    "    print(\"3. Delete a patient record\")\n",
    "    print(\"4. Search by diagnosis\")\n",
    "    print(\"5. Display all records\")\n",
    "    print(\"6. Exit\")\n",
    "    \n",
    "    choice = get_response(\"Enter your choice (1-6): \")\n",
    "\n",
    "    if choice == '1':\n",
    "        patient_records.append(get_patient_record())\n",
    "    elif choice == '2':\n",
    "        patient_id = get_response(\"Enter Patient ID to update: \")\n",
    "        update_treatment_plan(patient_id)\n",
    "    elif choice == '3':\n",
    "        patient_id = get_response(\"Enter Patient ID to delete: \")\n",
    "        delete_patient_record(patient_id)\n",
    "    elif choice == '4':\n",
    "        diagnosis = get_response(\"Enter the diagnosis to search for: \").capitalize()\n",
    "        search_by_diagnosis(diagnosis)\n",
    "    elif choice == '5':\n",
    "        print(\"\\nAll Patient Records:\")\n",
    "        for record in patient_records:\n",
    "            print(record)\n",
    "    elif choice == '6':\n",
    "        print(\"Exiting the Patient Record System. Goodbye!\")\n",
    "        break\n",
    "    else:\n",
    "        print(\"Invalid choice! Please enter a number between 1 and 6.\")"
   ]
  },
  {
   "cell_type": "code",
   "execution_count": null,
   "id": "a5edea66-d365-49f7-8bf1-f5f36b63bd2f",
   "metadata": {},
   "outputs": [],
   "source": []
  }
 ],
 "metadata": {
  "kernelspec": {
   "display_name": "Python 3 (ipykernel)",
   "language": "python",
   "name": "python3"
  },
  "language_info": {
   "codemirror_mode": {
    "name": "ipython",
    "version": 3
   },
   "file_extension": ".py",
   "mimetype": "text/x-python",
   "name": "python",
   "nbconvert_exporter": "python",
   "pygments_lexer": "ipython3",
   "version": "3.12.7"
  }
 },
 "nbformat": 4,
 "nbformat_minor": 5
}
