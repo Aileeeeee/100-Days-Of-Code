{
 "cells": [
  {
   "cell_type": "code",
   "execution_count": 23,
   "id": "2510d965-7ca4-49a2-85f5-193984070ec6",
   "metadata": {},
   "outputs": [],
   "source": [
    "'''\n",
    "Sum of Numbers\n",
    "Write a function that takes any number of integers as arguments and returns their sum.\n",
    "\n",
    "'''\n",
    "\n",
    "def return_sum(*num):\n",
    "    'A function that takes any number of integers as arguments and returns their sum.'\n",
    "    total_number = 0\n",
    "    for number in num:\n",
    "        if not isinstance(number,(int,float)) or number < 0:\n",
    "            return f\"Invalid input. '{number}' not a valid positive numerical value\"\n",
    "        total_number += number\n",
    "    return int(total_number) \n",
    "        \n",
    "    "
   ]
  },
  {
   "cell_type": "code",
   "execution_count": 29,
   "id": "61976ac9-edd7-488c-aeb2-893ae8a3de3a",
   "metadata": {},
   "outputs": [
    {
     "name": "stdin",
     "output_type": "stream",
     "text": [
      "Enter a student's name:  hannah\n"
     ]
    },
    {
     "data": {
      "text/plain": [
       "'Hannah has no grades entered to calculate average grade.'"
      ]
     },
     "execution_count": 29,
     "metadata": {},
     "output_type": "execute_result"
    }
   ],
   "source": [
    "'''\n",
    "Student Grades\n",
    "Create a function that takes the name of a student as a regular argument, and then any number of grades as arbitrary positional arguments. The function should return the student’s name and their average grade.\n",
    "\n",
    "'''\n",
    "def student_grades(name,*grades):\n",
    "    'A function that takes the name of a student their grades and return the student’s name and their average grade.'\n",
    "    \n",
    "    if not grades:\n",
    "        return f'{name} has no grades entered to calculate average grade.'\n",
    "\n",
    "    # Calculate student average grade\n",
    "    average_grade = round(sum(grades) / len(grades),2)\n",
    "\n",
    "    return f\"{name}'s average grade: {average_grade}\"\n",
    "\n",
    "\n",
    "\n",
    "# Collect student_name from user input\n",
    "name = input(\"Enter a student's name: \").strip().capitalize()\n",
    "\n",
    "    "
   ]
  },
  {
   "cell_type": "code",
   "execution_count": 3,
   "id": "db694bdf-87fb-4964-9c73-597fdf644851",
   "metadata": {},
   "outputs": [
    {
     "ename": "NameError",
     "evalue": "name 'name' is not defined",
     "output_type": "error",
     "traceback": [
      "\u001b[1;31m---------------------------------------------------------------------------\u001b[0m",
      "\u001b[1;31mNameError\u001b[0m                                 Traceback (most recent call last)",
      "Cell \u001b[1;32mIn[3], line 1\u001b[0m\n\u001b[1;32m----> 1\u001b[0m student_grades(name,\u001b[38;5;241m20\u001b[39m,\u001b[38;5;241m30\u001b[39m,\u001b[38;5;241m40\u001b[39m,\u001b[38;5;241m50\u001b[39m,\u001b[38;5;241m60\u001b[39m,\u001b[38;5;241m70\u001b[39m)\n",
      "\u001b[1;31mNameError\u001b[0m: name 'name' is not defined"
     ]
    }
   ],
   "source": [
    "student_grades(name,20,30,40,50,60,70)"
   ]
  },
  {
   "cell_type": "code",
   "execution_count": 15,
   "id": "4a97b8dc-2e45-4a3d-947d-97229eb5d60c",
   "metadata": {},
   "outputs": [
    {
     "name": "stdin",
     "output_type": "stream",
     "text": [
      "Enter your first name:  smart\n",
      "Enter your last name:  aguba\n",
      "Enter your gender:  male\n",
      "Enter your state of origin:  awka north\n",
      "Enter your local government area:  anambra\n"
     ]
    },
    {
     "name": "stdout",
     "output_type": "stream",
     "text": [
      "\n",
      "User Profile: \n",
      "Full name: Smart Aguba\n",
      "Gender : Male\n",
      "State Of Origin : Awka north\n",
      "Local Govt : Anambra\n"
     ]
    }
   ],
   "source": [
    "'''\n",
    " User Profile\n",
    "Write a function that accepts a user’s first and last name as regular arguments, followed by arbitrary keyword \n",
    "arguments for extra details like age, country, etc. \n",
    "The function should return a string displaying the user’s full name and any extra details provided.\n",
    "'''\n",
    "\n",
    "def user_profile(first_name,last_name,**extra_details):\n",
    "    print('\\nUser Profile ')\n",
    "    # Display full name\n",
    "    print(f'Full name: {first_name} {last_name}')\n",
    "\n",
    "    # Iterate through the dictionary\n",
    "    for keyword,detail in extra_details.items():\n",
    "        # Replace underscores with whitespace and capitalize each word\n",
    "        formatted_keyword = keyword.replace('_',' ').title()\n",
    "        print(f'{formatted_keyword} : {detail}')\n",
    "\n",
    "# Collect user profile details from user inpu\n",
    "first_name = input('Enter your first name: ').strip().capitalize()\n",
    "last_name = input('Enter your last name: ').strip().capitalize()\n",
    "gender = input('Enter your gender: ').strip().capitalize()\n",
    "state_of_origin = input('Enter your state of origin: ').strip().capitalize()\n",
    "local_govt = input('Enter your local government area: ').strip().capitalize()\n",
    "\n",
    "\n",
    "user_profile(first_name,last_name,gender = gender,state_of_origin = state_of_origin ,local_govt= local_govt)\n",
    "        \n",
    "    "
   ]
  },
  {
   "cell_type": "code",
   "execution_count": 15,
   "id": "b05c520a-eda3-4f17-ac6b-b10981eb35d2",
   "metadata": {},
   "outputs": [],
   "source": [
    "'''\n",
    "Maximum Value\n",
    "Write a function that accepts any number of numerical values and returns the largest one.\n",
    "\n",
    "'''\n",
    "def max_value(*nums):\n",
    "    ' A function that accepts any number of numerical values and returns the largest one.'\n",
    "\n",
    "    # Check if at least one value is entered .\n",
    "    if not nums:\n",
    "        return f'No values entered! Enter at least one numerical value.'\n",
    "\n",
    "    # Validate all values entered are numerical values\n",
    "    for number in nums:\n",
    "        if not isinstance(number,(int,float)):\n",
    "            return f'Invalid input! {number} is not  a numerical value.Enter a valid numeric value.'\n",
    "\n",
    "    # Obtain the highest value from the numerical value provided\n",
    "    largest = max(nums)\n",
    "    return largest"
   ]
  },
  {
   "cell_type": "code",
   "execution_count": 17,
   "id": "e9a6dd27-385c-48bf-8282-face51d40ff9",
   "metadata": {},
   "outputs": [
    {
     "data": {
      "text/plain": [
       "'No values entered! Enter at least one numerical value.'"
      ]
     },
     "execution_count": 17,
     "metadata": {},
     "output_type": "execute_result"
    }
   ],
   "source": [
    "max_value()"
   ]
  },
  {
   "cell_type": "code",
   "execution_count": null,
   "id": "f6b9e9b3-3129-424f-b4fc-ca26697ef734",
   "metadata": {},
   "outputs": [],
   "source": []
  },
  {
   "cell_type": "code",
   "execution_count": null,
   "id": "99c05280-f15f-4ac8-bd46-cb441df7a4dd",
   "metadata": {},
   "outputs": [],
   "source": []
  }
 ],
 "metadata": {
  "kernelspec": {
   "display_name": "Python 3 (ipykernel)",
   "language": "python",
   "name": "python3"
  },
  "language_info": {
   "codemirror_mode": {
    "name": "ipython",
    "version": 3
   },
   "file_extension": ".py",
   "mimetype": "text/x-python",
   "name": "python",
   "nbconvert_exporter": "python",
   "pygments_lexer": "ipython3",
   "version": "3.12.7"
  }
 },
 "nbformat": 4,
 "nbformat_minor": 5
}
